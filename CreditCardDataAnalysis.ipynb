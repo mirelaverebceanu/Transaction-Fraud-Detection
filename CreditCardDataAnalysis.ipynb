{
 "cells": [
  {
   "cell_type": "code",
   "execution_count": 1,
   "metadata": {},
   "outputs": [],
   "source": [
    "import pandas as pd\n",
    "import numpy as np\n",
    "import matplotlib.pyplot as plt\n",
    "import seaborn as sns\n",
    "import statistics as st\n",
    "import random\n",
    "from utile import *"
   ]
  },
  {
   "cell_type": "code",
   "execution_count": 2,
   "metadata": {},
   "outputs": [],
   "source": [
    "dataset = pd.read_csv('creditcard.csv')"
   ]
  },
  {
   "cell_type": "code",
   "execution_count": 3,
   "metadata": {},
   "outputs": [
    {
     "name": "stdout",
     "output_type": "stream",
     "text": [
      "['Time', 'V1', 'V2', 'V3', 'V4', 'V5', 'V6', 'V7', 'V8', 'V9', 'V10', 'V11', 'V12', 'V13', 'V14', 'V15', 'V16', 'V17', 'V18', 'V19', 'V20', 'V21', 'V22', 'V23', 'V24', 'V25', 'V26', 'V27', 'V28', 'Amount', 'Class']\n"
     ]
    }
   ],
   "source": [
    "column_names = dataset.columns.tolist()\n",
    "print(column_names)"
   ]
  },
  {
   "cell_type": "code",
   "execution_count": 4,
   "metadata": {},
   "outputs": [
    {
     "name": "stdout",
     "output_type": "stream",
     "text": [
      "                Time            V1            V2            V3            V4  \\\n",
      "count  284807.000000  2.848070e+05  2.848070e+05  2.848070e+05  2.848070e+05   \n",
      "mean    94813.859575  1.165980e-15  3.416908e-16 -1.373150e-15  2.086869e-15   \n",
      "std     47488.145955  1.958696e+00  1.651309e+00  1.516255e+00  1.415869e+00   \n",
      "min         0.000000 -5.640751e+01 -7.271573e+01 -4.832559e+01 -5.683171e+00   \n",
      "25%     54201.500000 -9.203734e-01 -5.985499e-01 -8.903648e-01 -8.486401e-01   \n",
      "50%     84692.000000  1.810880e-02  6.548556e-02  1.798463e-01 -1.984653e-02   \n",
      "75%    139320.500000  1.315642e+00  8.037239e-01  1.027196e+00  7.433413e-01   \n",
      "max    172792.000000  2.454930e+00  2.205773e+01  9.382558e+00  1.687534e+01   \n",
      "\n",
      "                 V5            V6            V7            V8            V9  \\\n",
      "count  2.848070e+05  2.848070e+05  2.848070e+05  2.848070e+05  2.848070e+05   \n",
      "mean   9.604066e-16  1.490107e-15 -5.556467e-16  1.177556e-16 -2.406455e-15   \n",
      "std    1.380247e+00  1.332271e+00  1.237094e+00  1.194353e+00  1.098632e+00   \n",
      "min   -1.137433e+02 -2.616051e+01 -4.355724e+01 -7.321672e+01 -1.343407e+01   \n",
      "25%   -6.915971e-01 -7.682956e-01 -5.540759e-01 -2.086297e-01 -6.430976e-01   \n",
      "50%   -5.433583e-02 -2.741871e-01  4.010308e-02  2.235804e-02 -5.142873e-02   \n",
      "75%    6.119264e-01  3.985649e-01  5.704361e-01  3.273459e-01  5.971390e-01   \n",
      "max    3.480167e+01  7.330163e+01  1.205895e+02  2.000721e+01  1.559499e+01   \n",
      "\n",
      "       ...           V21           V22           V23           V24  \\\n",
      "count  ...  2.848070e+05  2.848070e+05  2.848070e+05  2.848070e+05   \n",
      "mean   ...  1.656562e-16 -3.444850e-16  2.578648e-16  4.471968e-15   \n",
      "std    ...  7.345240e-01  7.257016e-01  6.244603e-01  6.056471e-01   \n",
      "min    ... -3.483038e+01 -1.093314e+01 -4.480774e+01 -2.836627e+00   \n",
      "25%    ... -2.283949e-01 -5.423504e-01 -1.618463e-01 -3.545861e-01   \n",
      "50%    ... -2.945017e-02  6.781943e-03 -1.119293e-02  4.097606e-02   \n",
      "75%    ...  1.863772e-01  5.285536e-01  1.476421e-01  4.395266e-01   \n",
      "max    ...  2.720284e+01  1.050309e+01  2.252841e+01  4.584549e+00   \n",
      "\n",
      "                V25           V26           V27           V28         Amount  \\\n",
      "count  2.848070e+05  2.848070e+05  2.848070e+05  2.848070e+05  284807.000000   \n",
      "mean   5.340915e-16  1.687098e-15 -3.666453e-16 -1.220404e-16      88.349619   \n",
      "std    5.212781e-01  4.822270e-01  4.036325e-01  3.300833e-01     250.120109   \n",
      "min   -1.029540e+01 -2.604551e+00 -2.256568e+01 -1.543008e+01       0.000000   \n",
      "25%   -3.171451e-01 -3.269839e-01 -7.083953e-02 -5.295979e-02       5.600000   \n",
      "50%    1.659350e-02 -5.213911e-02  1.342146e-03  1.124383e-02      22.000000   \n",
      "75%    3.507156e-01  2.409522e-01  9.104512e-02  7.827995e-02      77.165000   \n",
      "max    7.519589e+00  3.517346e+00  3.161220e+01  3.384781e+01   25691.160000   \n",
      "\n",
      "               Class  \n",
      "count  284807.000000  \n",
      "mean        0.001727  \n",
      "std         0.041527  \n",
      "min         0.000000  \n",
      "25%         0.000000  \n",
      "50%         0.000000  \n",
      "75%         0.000000  \n",
      "max         1.000000  \n",
      "\n",
      "[8 rows x 31 columns]\n",
      "                   Time            V1            V2            V3  \\\n",
      "count     284807.000000  2.848070e+05  2.848070e+05  2.848070e+05   \n",
      "mean       94813.859575  1.165980e-15  3.416908e-16 -1.373150e-15   \n",
      "std        47488.145955  1.958696e+00  1.651309e+00  1.516255e+00   \n",
      "min            0.000000 -5.640751e+01 -7.271573e+01 -4.832559e+01   \n",
      "25%        54201.500000 -9.203734e-01 -5.985499e-01 -8.903648e-01   \n",
      "50%        84692.000000  1.810880e-02  6.548556e-02  1.798463e-01   \n",
      "75%       139320.500000  1.315642e+00  8.037239e-01  1.027196e+00   \n",
      "max       172792.000000  2.454930e+00  2.205773e+01  9.382558e+00   \n",
      "skewness      -0.035568 -3.280667e+00 -4.624866e+00 -2.240155e+00   \n",
      "kurtosis      -1.293530  3.248668e+01  9.577311e+01  2.661955e+01   \n",
      "median     84692.000000  1.810880e-02  6.548556e-02  1.798463e-01   \n",
      "\n",
      "                    V4            V5            V6            V7  \\\n",
      "count     2.848070e+05  2.848070e+05  2.848070e+05  2.848070e+05   \n",
      "mean      2.086869e-15  9.604066e-16  1.490107e-15 -5.556467e-16   \n",
      "std       1.415869e+00  1.380247e+00  1.332271e+00  1.237094e+00   \n",
      "min      -5.683171e+00 -1.137433e+02 -2.616051e+01 -4.355724e+01   \n",
      "25%      -8.486401e-01 -6.915971e-01 -7.682956e-01 -5.540759e-01   \n",
      "50%      -1.984653e-02 -5.433583e-02 -2.741871e-01  4.010308e-02   \n",
      "75%       7.433413e-01  6.119264e-01  3.985649e-01  5.704361e-01   \n",
      "max       1.687534e+01  3.480167e+01  7.330163e+01  1.205895e+02   \n",
      "skewness  6.762921e-01 -2.425901e+00  1.826581e+00  2.553907e+00   \n",
      "kurtosis  2.635455e+00  2.069046e+02  4.264249e+01  4.056074e+02   \n",
      "median   -1.984653e-02 -5.433583e-02 -2.741871e-01  4.010308e-02   \n",
      "\n",
      "                    V8            V9  ...           V21           V22  \\\n",
      "count     2.848070e+05  2.848070e+05  ...  2.848070e+05  2.848070e+05   \n",
      "mean      1.177556e-16 -2.406455e-15  ...  1.656562e-16 -3.444850e-16   \n",
      "std       1.194353e+00  1.098632e+00  ...  7.345240e-01  7.257016e-01   \n",
      "min      -7.321672e+01 -1.343407e+01  ... -3.483038e+01 -1.093314e+01   \n",
      "25%      -2.086297e-01 -6.430976e-01  ... -2.283949e-01 -5.423504e-01   \n",
      "50%       2.235804e-02 -5.142873e-02  ... -2.945017e-02  6.781943e-03   \n",
      "75%       3.273459e-01  5.971390e-01  ...  1.863772e-01  5.285536e-01   \n",
      "max       2.000721e+01  1.559499e+01  ...  2.720284e+01  1.050309e+01   \n",
      "skewness -8.521944e+00  5.546798e-01  ...  3.592991e+00 -2.132576e-01   \n",
      "kurtosis  2.205870e+02  3.731311e+00  ...  2.072870e+02  2.832967e+00   \n",
      "median    2.235804e-02 -5.142873e-02  ... -2.945017e-02  6.781943e-03   \n",
      "\n",
      "                   V23           V24           V25           V26  \\\n",
      "count     2.848070e+05  2.848070e+05  2.848070e+05  2.848070e+05   \n",
      "mean      2.578648e-16  4.471968e-15  5.340915e-16  1.687098e-15   \n",
      "std       6.244603e-01  6.056471e-01  5.212781e-01  4.822270e-01   \n",
      "min      -4.480774e+01 -2.836627e+00 -1.029540e+01 -2.604551e+00   \n",
      "25%      -1.618463e-01 -3.545861e-01 -3.171451e-01 -3.269839e-01   \n",
      "50%      -1.119293e-02  4.097606e-02  1.659350e-02 -5.213911e-02   \n",
      "75%       1.476421e-01  4.395266e-01  3.507156e-01  2.409522e-01   \n",
      "max       2.252841e+01  4.584549e+00  7.519589e+00  3.517346e+00   \n",
      "skewness -5.875140e+00 -5.524993e-01 -4.157926e-01  5.766926e-01   \n",
      "kurtosis  4.400887e+02  6.188708e-01  4.290412e+00  9.190058e-01   \n",
      "median   -1.119293e-02  4.097606e-02  1.659350e-02 -5.213911e-02   \n",
      "\n",
      "                   V27           V28         Amount          Class  \n",
      "count     2.848070e+05  2.848070e+05  284807.000000  284807.000000  \n",
      "mean     -3.666453e-16 -1.220404e-16      88.349619       0.001727  \n",
      "std       4.036325e-01  3.300833e-01     250.120109       0.041527  \n",
      "min      -2.256568e+01 -1.543008e+01       0.000000       0.000000  \n",
      "25%      -7.083953e-02 -5.295979e-02       5.600000       0.000000  \n",
      "50%       1.342146e-03  1.124383e-02      22.000000       0.000000  \n",
      "75%       9.104512e-02  7.827995e-02      77.165000       0.000000  \n",
      "max       3.161220e+01  3.384781e+01   25691.160000       1.000000  \n",
      "skewness -1.170209e+00  1.119209e+01      16.977724      23.997579  \n",
      "kurtosis  2.449892e+02  9.333975e+02     845.092646     573.887843  \n",
      "median    1.342146e-03  1.124383e-02      22.000000       0.000000  \n",
      "\n",
      "[11 rows x 31 columns]\n"
     ]
    }
   ],
   "source": [
    "#Looking at the main statistics\n",
    "print(dataset.describe())\n",
    "stats_df = dataset.describe()\n",
    "stats_df.loc['skewness'] = dataset.skew()\n",
    "stats_df.loc['kurtosis'] = dataset.kurt()\n",
    "stats_df.loc['median'] = dataset.median()\n",
    "print(stats_df)"
   ]
  },
  {
   "cell_type": "code",
   "execution_count": 5,
   "metadata": {},
   "outputs": [
    {
     "name": "stdout",
     "output_type": "stream",
     "text": [
      "    Time        V1        V2        V3        V4        V5        V6  \\\n",
      "0    0.0 -1.359807 -0.072781  2.536347  1.378155 -0.338321  0.462388   \n",
      "1    0.0  1.191857  0.266151  0.166480  0.448154  0.060018 -0.082361   \n",
      "2    1.0 -1.358354 -1.340163  1.773209  0.379780 -0.503198  1.800499   \n",
      "3    1.0 -0.966272 -0.185226  1.792993 -0.863291 -0.010309  1.247203   \n",
      "4    2.0 -1.158233  0.877737  1.548718  0.403034 -0.407193  0.095921   \n",
      "5    2.0 -0.425966  0.960523  1.141109 -0.168252  0.420987 -0.029728   \n",
      "6    4.0  1.229658  0.141004  0.045371  1.202613  0.191881  0.272708   \n",
      "7    7.0 -0.644269  1.417964  1.074380 -0.492199  0.948934  0.428118   \n",
      "8    7.0 -0.894286  0.286157 -0.113192 -0.271526  2.669599  3.721818   \n",
      "9    9.0 -0.338262  1.119593  1.044367 -0.222187  0.499361 -0.246761   \n",
      "10  10.0  1.449044 -1.176339  0.913860 -1.375667 -1.971383 -0.629152   \n",
      "11  10.0  0.384978  0.616109 -0.874300 -0.094019  2.924584  3.317027   \n",
      "12  10.0  1.249999 -1.221637  0.383930 -1.234899 -1.485419 -0.753230   \n",
      "13  11.0  1.069374  0.287722  0.828613  2.712520 -0.178398  0.337544   \n",
      "14  12.0 -2.791855 -0.327771  1.641750  1.767473 -0.136588  0.807596   \n",
      "15  12.0 -0.752417  0.345485  2.057323 -1.468643 -1.158394 -0.077850   \n",
      "16  12.0  1.103215 -0.040296  1.267332  1.289091 -0.735997  0.288069   \n",
      "17  13.0 -0.436905  0.918966  0.924591 -0.727219  0.915679 -0.127867   \n",
      "18  14.0 -5.401258 -5.450148  1.186305  1.736239  3.049106 -1.763406   \n",
      "19  15.0  1.492936 -1.029346  0.454795 -1.438026 -1.555434 -0.720961   \n",
      "\n",
      "          V7        V8        V9  ...       V21       V22       V23       V24  \\\n",
      "0   0.239599  0.098698  0.363787  ... -0.018307  0.277838 -0.110474  0.066928   \n",
      "1  -0.078803  0.085102 -0.255425  ... -0.225775 -0.638672  0.101288 -0.339846   \n",
      "2   0.791461  0.247676 -1.514654  ...  0.247998  0.771679  0.909412 -0.689281   \n",
      "3   0.237609  0.377436 -1.387024  ... -0.108300  0.005274 -0.190321 -1.175575   \n",
      "4   0.592941 -0.270533  0.817739  ... -0.009431  0.798278 -0.137458  0.141267   \n",
      "5   0.476201  0.260314 -0.568671  ... -0.208254 -0.559825 -0.026398 -0.371427   \n",
      "6  -0.005159  0.081213  0.464960  ... -0.167716 -0.270710 -0.154104 -0.780055   \n",
      "7   1.120631 -3.807864  0.615375  ...  1.943465 -1.015455  0.057504 -0.649709   \n",
      "8   0.370145  0.851084 -0.392048  ... -0.073425 -0.268092 -0.204233  1.011592   \n",
      "9   0.651583  0.069539 -0.736727  ... -0.246914 -0.633753 -0.120794 -0.385050   \n",
      "10 -1.423236  0.048456 -1.720408  ... -0.009302  0.313894  0.027740  0.500512   \n",
      "11  0.470455  0.538247 -0.558895  ...  0.049924  0.238422  0.009130  0.996710   \n",
      "12 -0.689405 -0.227487 -2.094011  ... -0.231809 -0.483285  0.084668  0.392831   \n",
      "13 -0.096717  0.115982 -0.221083  ... -0.036876  0.074412 -0.071407  0.104744   \n",
      "14 -0.422911 -1.907107  0.755713  ...  1.151663  0.222182  1.020586  0.028317   \n",
      "15 -0.608581  0.003603 -0.436167  ...  0.499625  1.353650 -0.256573 -0.065084   \n",
      "16 -0.586057  0.189380  0.782333  ... -0.024612  0.196002  0.013802  0.103758   \n",
      "17  0.707642  0.087962 -0.665271  ... -0.194796 -0.672638 -0.156858 -0.888386   \n",
      "18 -1.559738  0.160842  1.233090  ... -0.503600  0.984460  2.458589  0.042119   \n",
      "19 -1.080664 -0.053127 -1.978682  ... -0.177650 -0.175074  0.040002  0.295814   \n",
      "\n",
      "         V25       V26       V27       V28  Amount  Class  \n",
      "0   0.128539 -0.189115  0.133558 -0.021053  149.62      0  \n",
      "1   0.167170  0.125895 -0.008983  0.014724    2.69      0  \n",
      "2  -0.327642 -0.139097 -0.055353 -0.059752  378.66      0  \n",
      "3   0.647376 -0.221929  0.062723  0.061458  123.50      0  \n",
      "4  -0.206010  0.502292  0.219422  0.215153   69.99      0  \n",
      "5  -0.232794  0.105915  0.253844  0.081080    3.67      0  \n",
      "6   0.750137 -0.257237  0.034507  0.005168    4.99      0  \n",
      "7  -0.415267 -0.051634 -1.206921 -1.085339   40.80      0  \n",
      "8   0.373205 -0.384157  0.011747  0.142404   93.20      0  \n",
      "9  -0.069733  0.094199  0.246219  0.083076    3.68      0  \n",
      "10  0.251367 -0.129478  0.042850  0.016253    7.80      0  \n",
      "11 -0.767315 -0.492208  0.042472 -0.054337    9.99      0  \n",
      "12  0.161135 -0.354990  0.026416  0.042422  121.50      0  \n",
      "13  0.548265  0.104094  0.021491  0.021293   27.50      0  \n",
      "14 -0.232746 -0.235557 -0.164778 -0.030154   58.80      0  \n",
      "15 -0.039124 -0.087086 -0.180998  0.129394   15.99      0  \n",
      "16  0.364298 -0.382261  0.092809  0.037051   12.99      0  \n",
      "17 -0.342413 -0.049027  0.079692  0.131024    0.89      0  \n",
      "18 -0.481631 -0.621272  0.392053  0.949594   46.80      0  \n",
      "19  0.332931 -0.220385  0.022298  0.007602    5.00      0  \n",
      "\n",
      "[20 rows x 31 columns]\n"
     ]
    }
   ],
   "source": [
    "#Load and print the first 20 observations of the dataset.\n",
    "head_20 = dataset.head(20)\n",
    "print(head_20)"
   ]
  },
  {
   "cell_type": "code",
   "execution_count": 6,
   "metadata": {},
   "outputs": [
    {
     "name": "stdout",
     "output_type": "stream",
     "text": [
      "Time      float64\n",
      "V1        float64\n",
      "V2        float64\n",
      "V3        float64\n",
      "V4        float64\n",
      "V5        float64\n",
      "V6        float64\n",
      "V7        float64\n",
      "V8        float64\n",
      "V9        float64\n",
      "V10       float64\n",
      "V11       float64\n",
      "V12       float64\n",
      "V13       float64\n",
      "V14       float64\n",
      "V15       float64\n",
      "V16       float64\n",
      "V17       float64\n",
      "V18       float64\n",
      "V19       float64\n",
      "V20       float64\n",
      "V21       float64\n",
      "V22       float64\n",
      "V23       float64\n",
      "V24       float64\n",
      "V25       float64\n",
      "V26       float64\n",
      "V27       float64\n",
      "V28       float64\n",
      "Amount    float64\n",
      "Class       int64\n",
      "dtype: object\n"
     ]
    }
   ],
   "source": [
    "#Checking the type of the data\n",
    "datatype = dataset.dtypes\n",
    "print(datatype)"
   ]
  },
  {
   "cell_type": "code",
   "execution_count": 7,
   "metadata": {},
   "outputs": [
    {
     "name": "stdout",
     "output_type": "stream",
     "text": [
      "Time      0\n",
      "V1        0\n",
      "V2        0\n",
      "V3        0\n",
      "V4        0\n",
      "V5        0\n",
      "V6        0\n",
      "V7        0\n",
      "V8        0\n",
      "V9        0\n",
      "V10       0\n",
      "V11       0\n",
      "V12       0\n",
      "V13       0\n",
      "V14       0\n",
      "V15       0\n",
      "V16       0\n",
      "V17       0\n",
      "V18       0\n",
      "V19       0\n",
      "V20       0\n",
      "V21       0\n",
      "V22       0\n",
      "V23       0\n",
      "V24       0\n",
      "V25       0\n",
      "V26       0\n",
      "V27       0\n",
      "V28       0\n",
      "Amount    0\n",
      "Class     0\n",
      "dtype: int64\n"
     ]
    }
   ],
   "source": [
    "print(dataset.isnull().sum())"
   ]
  },
  {
   "cell_type": "code",
   "execution_count": 8,
   "metadata": {},
   "outputs": [
    {
     "data": {
      "image/png": "[encoded data removed]",
      "text/plain": [
       "<Figure size 1440x720 with 36 Axes>"
      ]
     },
     "metadata": {
      "needs_background": "light"
     },
     "output_type": "display_data"
    }
   ],
   "source": [
    "#Histograms\n",
    "dataset.hist(alpha=0.5, figsize=(20, 10))\n",
    "plt.tight_layout()\n",
    "plt.show()"
   ]
  },
  {
   "cell_type": "code",
   "execution_count": 9,
   "metadata": {},
   "outputs": [
    {
     "data": {
      "image/png": "[encoded data removed]",
      "text/plain": [
       "<Figure size 720x864 with 30 Axes>"
      ]
     },
     "metadata": {
      "needs_background": "light"
     },
     "output_type": "display_data"
    }
   ],
   "source": [
    "ax = dataset.drop(\"Class\", axis=1).hist(figsize=(10,12),bins=100)\n",
    "# We hide the axes' labels to make the plot neater and more compact\n",
    "for axis in ax.flatten():\n",
    "    axis.set_xticklabels([])\n",
    "    axis.set_yticklabels([])"
   ]
  },
  {
   "cell_type": "code",
   "execution_count": 10,
   "metadata": {},
   "outputs": [
    {
     "data": {
      "image/png": "[encoded data removed]",
      "text/plain": [
       "<Figure size 432x288 with 1 Axes>"
      ]
     },
     "metadata": {
      "needs_background": "light"
     },
     "output_type": "display_data"
    }
   ],
   "source": [
    "fig,ax = plt.subplots()\n",
    "sns.countplot(x=dataset.Class,ax=ax)\n",
    "for p in ax.patches:\n",
    "        val = p.get_height() #height of the bar\n",
    "        x = p.get_x() + p.get_width()/2 # x- position \n",
    "        y = p.get_y() + p.get_height() #y-position\n",
    "        ax.annotate(val,(x,y))"
   ]
  },
  {
   "cell_type": "code",
   "execution_count": 11,
   "metadata": {},
   "outputs": [],
   "source": [
    "from datetime import datetime, timedelta\n",
    "\n",
    "# extract hour from the timestamp column to create an time_hour column\n",
    "dataset['Time'] = pd.to_datetime(dataset['Time'], unit=\"s\")"
   ]
  },
  {
   "cell_type": "code",
   "execution_count": 12,
   "metadata": {},
   "outputs": [
    {
     "data": {
      "text/plain": [
       "0   1970-01-01 00:00:00\n",
       "1   1970-01-01 00:00:00\n",
       "2   1970-01-01 00:00:01\n",
       "3   1970-01-01 00:00:01\n",
       "4   1970-01-01 00:00:02\n",
       "Name: Time, dtype: datetime64[ns]"
      ]
     },
     "execution_count": 12,
     "metadata": {},
     "output_type": "execute_result"
    }
   ],
   "source": [
    "dataset['Time'].head()"
   ]
  },
  {
   "cell_type": "code",
   "execution_count": 13,
   "metadata": {},
   "outputs": [
    {
     "data": {
      "text/plain": [
       "284802   1970-01-02 23:59:46\n",
       "284803   1970-01-02 23:59:47\n",
       "284804   1970-01-02 23:59:48\n",
       "284805   1970-01-02 23:59:48\n",
       "284806   1970-01-02 23:59:52\n",
       "Name: Time, dtype: datetime64[ns]"
      ]
     },
     "execution_count": 13,
     "metadata": {},
     "output_type": "execute_result"
    }
   ],
   "source": [
    "dataset['Time'].tail()"
   ]
  },
  {
   "cell_type": "code",
   "execution_count": 14,
   "metadata": {},
   "outputs": [],
   "source": [
    "dataset[\"Hour\"] = dataset['Time'].dt.hour"
   ]
  },
  {
   "cell_type": "code",
   "execution_count": 15,
   "metadata": {},
   "outputs": [
    {
     "data": {
      "image/png": "[encoded data removed]",
      "text/plain": [
       "<Figure size 720x504 with 2 Axes>"
      ]
     },
     "metadata": {
      "needs_background": "light"
     },
     "output_type": "display_data"
    }
   ],
   "source": [
    "fig, ax = plt.subplots(2, figsize=(10,7))\n",
    "for a in ax:\n",
    "    a.set_xticks(range(24))\n",
    "dataset.loc[dataset[\"Class\"] == 0][\"Hour\"].hist(bins=np.arange(24)-0.5, ax=ax[0], grid=False)\n",
    "dataset.loc[dataset[\"Class\"] == 1][\"Hour\"].hist(bins=np.arange(24)-0.5, ax=ax[1], grid=False)\n",
    "ax[0].title.set_text(\"Legitimate Transactions\")\n",
    "ax[1].title.set_text(\"Fraudulent Transactions\")\n",
    "plt.subplots_adjust(hspace=0.3)"
   ]
  },
  {
   "cell_type": "code",
   "execution_count": 16,
   "metadata": {},
   "outputs": [
    {
     "data": {
      "image/png": "[encoded data removed]",
      "text/plain": [
       "<Figure size 432x288 with 1 Axes>"
      ]
     },
     "metadata": {
      "needs_background": "light"
     },
     "output_type": "display_data"
    }
   ],
   "source": [
    "fraud = dataset['Class'].isin([1])\n",
    "\n",
    "fraud_time = dataset[fraud].groupby(['Hour']).size().plot(kind='bar')\n",
    "fraud_time.set_xlabel(\"(time, isFraud)\")\n",
    "fraud_time.set_ylabel(\"time of transaction\")\n",
    "plt.show()"
   ]
  },
  {
   "cell_type": "code",
   "execution_count": 17,
   "metadata": {},
   "outputs": [
    {
     "name": "stdout",
     "output_type": "stream",
     "text": [
      "Fraudulent transactions are 0.17% of the training set.\n",
      "Fraudulent transactions are 0.17% of the test set.\n"
     ]
    }
   ],
   "source": [
    "from sklearn.model_selection import train_test_split\n",
    "\n",
    "\n",
    "trainDF, testDF = train_test_split(dataset, test_size=0.2, random_state=1234, stratify=dataset[[\"Class\"]])\n",
    "\n",
    "trainDF_norm = trainDF.copy()\n",
    "trainDF_norm[\"Amount\"] = trainDF[\"Amount\"].subtract(trainDF[\"Amount\"].mean())\n",
    "trainDF_norm[\"Hour\"] = trainDF[\"Hour\"].subtract(trainDF[\"Hour\"].mean())\n",
    "\n",
    "testDF_norm = testDF.copy()\n",
    "\n",
    "testDF_norm[\"Amount\"] = testDF[\"Amount\"].subtract(testDF[\"Amount\"].mean())\n",
    "testDF_norm[\"Hour\"] = testDF[\"Hour\"].subtract(testDF[\"Hour\"].mean())\n",
    "\n",
    "trainDF = trainDF_norm\n",
    "testDF = testDF_norm\n",
    "tr_value_counts = trainDF[\"Class\"].value_counts()\n",
    "print(\"Fraudulent transactions are %.2f%% of the training set.\" % (tr_value_counts[1] * 100 / len(trainDF)))\n",
    "tst_value_counts = testDF[\"Class\"].value_counts()\n",
    "print(\"Fraudulent transactions are %.2f%% of the test set.\" % (tst_value_counts[1] * 100 / len(testDF)))"
   ]
  },
  {
   "cell_type": "code",
   "execution_count": 18,
   "metadata": {},
   "outputs": [],
   "source": [
    "trainDF_norm[\"Amount\"] = trainDF[\"Amount\"].subtract(trainDF[\"Amount\"].mean())\n",
    "trainDF_norm[\"Hour\"] = trainDF[\"Hour\"].subtract(trainDF[\"Hour\"].mean())\n",
    "\n",
    "testDF_norm[\"Amount\"] = testDF[\"Amount\"].subtract(testDF[\"Amount\"].mean())\n",
    "testDF_norm[\"Hour\"] = testDF[\"Hour\"].subtract(testDF[\"Hour\"].mean())\n",
    "trainDF = trainDF_normtestDF = testDF_norm"
   ]
  },
  {
   "cell_type": "code",
   "execution_count": 19,
   "metadata": {},
   "outputs": [],
   "source": [
    "trainDF = trainDF.drop([\"Time\"], axis=1)\n",
    "testDF = testDF.drop([\"Time\"], axis=1)"
   ]
  },
  {
   "cell_type": "code",
   "execution_count": 20,
   "metadata": {},
   "outputs": [
    {
     "data": {
      "text/html": [
       "<div>\n",
       "<style scoped>\n",
       "    .dataframe tbody tr th:only-of-type {\n",
       "        vertical-align: middle;\n",
       "    }\n",
       "\n",
       "    .dataframe tbody tr th {\n",
       "        vertical-align: top;\n",
       "    }\n",
       "\n",
       "    .dataframe thead th {\n",
       "        text-align: right;\n",
       "    }\n",
       "</style>\n",
       "<table border=\"1\" class=\"dataframe\">\n",
       "  <thead>\n",
       "    <tr style=\"text-align: right;\">\n",
       "      <th></th>\n",
       "      <th>V1</th>\n",
       "      <th>V2</th>\n",
       "      <th>V3</th>\n",
       "      <th>V4</th>\n",
       "      <th>V5</th>\n",
       "      <th>V6</th>\n",
       "      <th>V7</th>\n",
       "      <th>V8</th>\n",
       "      <th>V9</th>\n",
       "      <th>V10</th>\n",
       "      <th>...</th>\n",
       "      <th>V21</th>\n",
       "      <th>V22</th>\n",
       "      <th>V23</th>\n",
       "      <th>V24</th>\n",
       "      <th>V25</th>\n",
       "      <th>V26</th>\n",
       "      <th>V27</th>\n",
       "      <th>V28</th>\n",
       "      <th>Amount</th>\n",
       "      <th>Hour</th>\n",
       "    </tr>\n",
       "  </thead>\n",
       "  <tbody>\n",
       "    <tr>\n",
       "      <th>38607</th>\n",
       "      <td>-0.881164</td>\n",
       "      <td>-0.537194</td>\n",
       "      <td>2.479497</td>\n",
       "      <td>0.944675</td>\n",
       "      <td>-1.578208</td>\n",
       "      <td>1.136568</td>\n",
       "      <td>-0.043735</td>\n",
       "      <td>0.397746</td>\n",
       "      <td>-1.460387</td>\n",
       "      <td>0.527312</td>\n",
       "      <td>...</td>\n",
       "      <td>0.052055</td>\n",
       "      <td>0.355153</td>\n",
       "      <td>0.327118</td>\n",
       "      <td>0.183838</td>\n",
       "      <td>0.044737</td>\n",
       "      <td>0.022493</td>\n",
       "      <td>0.109542</td>\n",
       "      <td>0.109897</td>\n",
       "      <td>136.782587</td>\n",
       "      <td>-4.017257</td>\n",
       "    </tr>\n",
       "    <tr>\n",
       "      <th>113302</th>\n",
       "      <td>-0.885404</td>\n",
       "      <td>0.403891</td>\n",
       "      <td>0.730598</td>\n",
       "      <td>-1.655171</td>\n",
       "      <td>2.732323</td>\n",
       "      <td>3.410628</td>\n",
       "      <td>0.233018</td>\n",
       "      <td>0.713919</td>\n",
       "      <td>-0.353257</td>\n",
       "      <td>-0.455123</td>\n",
       "      <td>...</td>\n",
       "      <td>-0.258158</td>\n",
       "      <td>-0.904623</td>\n",
       "      <td>-0.220187</td>\n",
       "      <td>0.984244</td>\n",
       "      <td>0.270677</td>\n",
       "      <td>-0.002165</td>\n",
       "      <td>-0.295257</td>\n",
       "      <td>-0.141850</td>\n",
       "      <td>-68.747413</td>\n",
       "      <td>5.982743</td>\n",
       "    </tr>\n",
       "    <tr>\n",
       "      <th>154210</th>\n",
       "      <td>1.936180</td>\n",
       "      <td>-0.559750</td>\n",
       "      <td>0.134698</td>\n",
       "      <td>0.385497</td>\n",
       "      <td>-0.871716</td>\n",
       "      <td>0.106497</td>\n",
       "      <td>-1.156510</td>\n",
       "      <td>0.186510</td>\n",
       "      <td>2.570330</td>\n",
       "      <td>-0.202706</td>\n",
       "      <td>...</td>\n",
       "      <td>-0.087873</td>\n",
       "      <td>0.067471</td>\n",
       "      <td>0.291651</td>\n",
       "      <td>-0.454241</td>\n",
       "      <td>-0.656385</td>\n",
       "      <td>0.451330</td>\n",
       "      <td>-0.047002</td>\n",
       "      <td>-0.059189</td>\n",
       "      <td>-73.797413</td>\n",
       "      <td>-10.017257</td>\n",
       "    </tr>\n",
       "    <tr>\n",
       "      <th>183158</th>\n",
       "      <td>1.936207</td>\n",
       "      <td>-0.254931</td>\n",
       "      <td>-1.408383</td>\n",
       "      <td>-0.009918</td>\n",
       "      <td>0.820452</td>\n",
       "      <td>0.921576</td>\n",
       "      <td>-0.157472</td>\n",
       "      <td>0.265727</td>\n",
       "      <td>0.294221</td>\n",
       "      <td>0.105333</td>\n",
       "      <td>...</td>\n",
       "      <td>-0.196572</td>\n",
       "      <td>-0.352925</td>\n",
       "      <td>0.331705</td>\n",
       "      <td>-1.627373</td>\n",
       "      <td>-0.453666</td>\n",
       "      <td>0.309517</td>\n",
       "      <td>-0.024677</td>\n",
       "      <td>-0.086909</td>\n",
       "      <td>-86.767413</td>\n",
       "      <td>-4.017257</td>\n",
       "    </tr>\n",
       "    <tr>\n",
       "      <th>212422</th>\n",
       "      <td>0.207577</td>\n",
       "      <td>0.305463</td>\n",
       "      <td>0.638783</td>\n",
       "      <td>-0.459451</td>\n",
       "      <td>0.024812</td>\n",
       "      <td>0.043566</td>\n",
       "      <td>0.370522</td>\n",
       "      <td>-0.286907</td>\n",
       "      <td>-1.699743</td>\n",
       "      <td>1.237403</td>\n",
       "      <td>...</td>\n",
       "      <td>0.099169</td>\n",
       "      <td>0.402490</td>\n",
       "      <td>-0.207907</td>\n",
       "      <td>0.786499</td>\n",
       "      <td>-0.304110</td>\n",
       "      <td>0.085865</td>\n",
       "      <td>-0.152691</td>\n",
       "      <td>-0.097177</td>\n",
       "      <td>-73.747413</td>\n",
       "      <td>-0.017257</td>\n",
       "    </tr>\n",
       "  </tbody>\n",
       "</table>\n",
       "<p>5 rows × 30 columns</p>\n",
       "</div>"
      ],
      "text/plain": [
       "              V1        V2        V3        V4        V5        V6        V7  \\\n",
       "38607  -0.881164 -0.537194  2.479497  0.944675 -1.578208  1.136568 -0.043735   \n",
       "113302 -0.885404  0.403891  0.730598 -1.655171  2.732323  3.410628  0.233018   \n",
       "154210  1.936180 -0.559750  0.134698  0.385497 -0.871716  0.106497 -1.156510   \n",
       "183158  1.936207 -0.254931 -1.408383 -0.009918  0.820452  0.921576 -0.157472   \n",
       "212422  0.207577  0.305463  0.638783 -0.459451  0.024812  0.043566  0.370522   \n",
       "\n",
       "              V8        V9       V10  ...       V21       V22       V23  \\\n",
       "38607   0.397746 -1.460387  0.527312  ...  0.052055  0.355153  0.327118   \n",
       "113302  0.713919 -0.353257 -0.455123  ... -0.258158 -0.904623 -0.220187   \n",
       "154210  0.186510  2.570330 -0.202706  ... -0.087873  0.067471  0.291651   \n",
       "183158  0.265727  0.294221  0.105333  ... -0.196572 -0.352925  0.331705   \n",
       "212422 -0.286907 -1.699743  1.237403  ...  0.099169  0.402490 -0.207907   \n",
       "\n",
       "             V24       V25       V26       V27       V28      Amount  \\\n",
       "38607   0.183838  0.044737  0.022493  0.109542  0.109897  136.782587   \n",
       "113302  0.984244  0.270677 -0.002165 -0.295257 -0.141850  -68.747413   \n",
       "154210 -0.454241 -0.656385  0.451330 -0.047002 -0.059189  -73.797413   \n",
       "183158 -1.627373 -0.453666  0.309517 -0.024677 -0.086909  -86.767413   \n",
       "212422  0.786499 -0.304110  0.085865 -0.152691 -0.097177  -73.747413   \n",
       "\n",
       "             Hour  \n",
       "38607   -4.017257  \n",
       "113302   5.982743  \n",
       "154210 -10.017257  \n",
       "183158  -4.017257  \n",
       "212422  -0.017257  \n",
       "\n",
       "[5 rows x 30 columns]"
      ]
     },
     "execution_count": 20,
     "metadata": {},
     "output_type": "execute_result"
    }
   ],
   "source": [
    "X_train = trainDF.iloc[:, trainDF.columns != \"Class\"]\n",
    "y_train = trainDF.iloc[:, trainDF.columns == \"Class\"]\n",
    "X_test = testDF.iloc[:, testDF.columns != \"Class\"]\n",
    "y_test = testDF.iloc[:, testDF.columns == \"Class\"]\n",
    "X_train.head()"
   ]
  },
  {
   "cell_type": "code",
   "execution_count": 21,
   "metadata": {},
   "outputs": [],
   "source": [
    "from sklearn.preprocessing import StandardScaler\n",
    "scale=StandardScaler()\n",
    "X_train_scaled = scale.fit_transform(X_train)\n",
    "X_test_scaled = scale.transform(X_test)"
   ]
  },
  {
   "cell_type": "code",
   "execution_count": 22,
   "metadata": {},
   "outputs": [],
   "source": [
    "from imblearn.over_sampling import SMOTE\n",
    "X_train_sm, y_train_sm = SMOTE(random_state=1234).fit_resample(X_train_scaled, y_train)\n",
    "smote_value_counts = y_train_sm[\"Class\"].value_counts()"
   ]
  },
  {
   "cell_type": "code",
   "execution_count": 23,
   "metadata": {},
   "outputs": [],
   "source": [
    "from imblearn.over_sampling import SMOTE\n",
    "sm = SMOTE(sampling_strategy='auto', random_state=None, k_neighbors=5, n_jobs=None)\n",
    "X_train_smote, y_train_smote = sm.fit_resample(X_train, y_train)"
   ]
  },
  {
   "cell_type": "markdown",
   "metadata": {},
   "source": [
    "## Model Development"
   ]
  },
  {
   "cell_type": "code",
   "execution_count": 24,
   "metadata": {},
   "outputs": [
    {
     "name": "stderr",
     "output_type": "stream",
     "text": [
      "c:\\Users\\xps\\AppData\\Local\\Programs\\Python\\Python36\\lib\\site-packages\\sklearn\\utils\\validation.py:63: DataConversionWarning: A column-vector y was passed when a 1d array was expected. Please change the shape of y to (n_samples, ), for example using ravel().\n",
      "  return f(*args, **kwargs)\n",
      "c:\\Users\\xps\\AppData\\Local\\Programs\\Python\\Python36\\lib\\site-packages\\sklearn\\linear_model\\_logistic.py:765: ConvergenceWarning: lbfgs failed to converge (status=1):\n",
      "STOP: TOTAL NO. of ITERATIONS REACHED LIMIT.\n",
      "\n",
      "Increase the number of iterations (max_iter) or scale the data as shown in:\n",
      "    https://scikit-learn.org/stable/modules/preprocessing.html\n",
      "Please also refer to the documentation for alternative solver options:\n",
      "    https://scikit-learn.org/stable/modules/linear_model.html#logistic-regression\n",
      "  extra_warning_msg=_LOGISTIC_SOLVER_CONVERGENCE_MSG)\n"
     ]
    }
   ],
   "source": [
    "from sklearn.linear_model import LogisticRegression\n",
    "lr = LogisticRegression(class_weight=\"balanced\")\n",
    "lr_model = lr.fit(X_train_sm, y_train_sm)"
   ]
  },
  {
   "cell_type": "code",
   "execution_count": 25,
   "metadata": {},
   "outputs": [
    {
     "name": "stdout",
     "output_type": "stream",
     "text": [
      "0.7812401249956111\n"
     ]
    }
   ],
   "source": [
    "print(lr.score(X_test, y_test))"
   ]
  },
  {
   "cell_type": "code",
   "execution_count": 26,
   "metadata": {},
   "outputs": [],
   "source": [
    "y_pred_lr = lr_model.predict(X_test)"
   ]
  },
  {
   "cell_type": "code",
   "execution_count": 27,
   "metadata": {},
   "outputs": [
    {
     "name": "stdout",
     "output_type": "stream",
     "text": [
      "Classification Report:\n",
      "\n",
      "               precision    recall  f1-score   support\n",
      "\n",
      "           0       1.00      0.78      0.88     56864\n",
      "           1       0.00      0.32      0.00        98\n",
      "\n",
      "    accuracy                           0.78     56962\n",
      "   macro avg       0.50      0.55      0.44     56962\n",
      "weighted avg       1.00      0.78      0.88     56962\n",
      "\n"
     ]
    }
   ],
   "source": [
    "from sklearn.metrics import classification_report\n",
    "\n",
    "print(\"Classification Report:\\n\\n\", classification_report(y_test, y_pred_lr))"
   ]
  },
  {
   "cell_type": "code",
   "execution_count": 28,
   "metadata": {},
   "outputs": [
    {
     "data": {
      "image/png": "[encoded data removed]",
      "text/plain": [
       "<Figure size 432x288 with 1 Axes>"
      ]
     },
     "metadata": {
      "needs_background": "light"
     },
     "output_type": "display_data"
    }
   ],
   "source": [
    "from sklearn.metrics import plot_roc_curve\n",
    "\n",
    "plot_roc_curve(lr_model, X_test, y_test)\n",
    "plt.title('ROC-AUC\\n')\n",
    "plt.show()"
   ]
  },
  {
   "cell_type": "code",
   "execution_count": 30,
   "metadata": {},
   "outputs": [
    {
     "name": "stderr",
     "output_type": "stream",
     "text": [
      "c:\\Users\\xps\\AppData\\Local\\Programs\\Python\\Python36\\lib\\site-packages\\sklearn\\utils\\validation.py:72: FutureWarning: Pass labels=[1, 0] as keyword args. From version 1.0 (renaming of 0.25) passing these as positional arguments will result in an error\n",
      "  \"will result in an error\", FutureWarning)\n"
     ]
    },
    {
     "data": {
      "image/png": "[encoded data removed]",
      "text/plain": [
       "<Figure size 432x288 with 2 Axes>"
      ]
     },
     "metadata": {
      "needs_background": "light"
     },
     "output_type": "display_data"
    },
    {
     "name": "stdout",
     "output_type": "stream",
     "text": [
      "\u001b[1m The result is telling us that we have:  44501 correct predictions\u001b[1m\n",
      "\u001b[1m We have:  12461 incorrect predictions\u001b[1m\n",
      "\u001b[1m And a total predictions of:  56962\n"
     ]
    }
   ],
   "source": [
    "from utile import *\n",
    "confusionMatrix(y_pred_lr, y_test, \"Logistic Regression\")"
   ]
  },
  {
   "cell_type": "markdown",
   "metadata": {},
   "source": [
    "## XGBOOST Model"
   ]
  },
  {
   "cell_type": "code",
   "execution_count": 31,
   "metadata": {},
   "outputs": [
    {
     "name": "stdout",
     "output_type": "stream",
     "text": [
      "Fitting 3 folds for each of 960 candidates, totalling 2880 fits\n",
      "Best estimator: \n",
      "XGBClassifier(base_score=0.5, booster='gbtree', colsample_bylevel=1,\n",
      "              colsample_bynode=1, colsample_bytree=0.5,\n",
      "              enable_categorical=False, eval_metric='auc', gamma=0.5, gpu_id=-1,\n",
      "              importance_type=None, interaction_constraints='',\n",
      "              learning_rate=0.1, max_delta_step=0, max_depth=3,\n",
      "              min_child_weight=100, missing=nan, monotone_constraints='()',\n",
      "              n_estimators=100, n_jobs=8, num_parallel_tree=1, predictor='auto',\n",
      "              random_state=0, reg_alpha=0, reg_lambda=1, scale_pos_weight=1,\n",
      "              subsample=1.0, tree_method='exact', use_label_encoder=False,\n",
      "              validate_parameters=1, verbosity=None)\n",
      "Parameters:  {'colsample_bytree': 0.5, 'gamma': 0.5, 'learning_rate': 0.1, 'max_depth': 3, 'min_child_weight': 100, 'subsample': 1.0}\n",
      "Highest AUC: 1.00\n"
     ]
    }
   ],
   "source": [
    "import random\n",
    "\n",
    "rows = random.sample(np.arange(0,len(X_train_smote.index)).tolist(), 5000)\n",
    "model_params = xgboost_search(X_train_smote.iloc[rows,], y_train_smote.iloc[rows,])"
   ]
  },
  {
   "cell_type": "code",
   "execution_count": 32,
   "metadata": {},
   "outputs": [],
   "source": [
    "import xgboost\n",
    "\n",
    "m2_xgb = xgboost.XGBClassifier().set_params(**model_params)"
   ]
  },
  {
   "cell_type": "code",
   "execution_count": 33,
   "metadata": {},
   "outputs": [
    {
     "name": "stderr",
     "output_type": "stream",
     "text": [
      "c:\\Users\\xps\\AppData\\Local\\Programs\\Python\\Python36\\lib\\site-packages\\xgboost\\sklearn.py:1224: UserWarning: The use of label encoder in XGBClassifier is deprecated and will be removed in a future release. To remove this warning, do the following: 1) Pass option use_label_encoder=False when constructing XGBClassifier object; and 2) Encode your labels (y) as integers starting with 0, i.e. 0, 1, 2, ..., [num_class - 1].\n",
      "  warnings.warn(label_encoder_deprecation_msg, UserWarning)\n",
      "c:\\Users\\xps\\AppData\\Local\\Programs\\Python\\Python36\\lib\\site-packages\\sklearn\\utils\\validation.py:63: DataConversionWarning: A column-vector y was passed when a 1d array was expected. Please change the shape of y to (n_samples, ), for example using ravel().\n",
      "  return f(*args, **kwargs)\n"
     ]
    },
    {
     "data": {
      "text/plain": [
       "XGBClassifier(base_score=0.5, booster='gbtree', colsample_bylevel=1,\n",
       "              colsample_bynode=1, colsample_bytree=0.5,\n",
       "              enable_categorical=False, gamma=0.5, gpu_id=-1,\n",
       "              importance_type=None, interaction_constraints='',\n",
       "              learning_rate=0.1, max_delta_step=0, max_depth=3,\n",
       "              min_child_weight=100, missing=nan, monotone_constraints='()',\n",
       "              n_estimators=100, n_jobs=8, num_parallel_tree=1, predictor='auto',\n",
       "              random_state=0, reg_alpha=0, reg_lambda=1, scale_pos_weight=1,\n",
       "              subsample=1.0, tree_method='exact', validate_parameters=1,\n",
       "              verbosity=None)"
      ]
     },
     "execution_count": 33,
     "metadata": {},
     "output_type": "execute_result"
    }
   ],
   "source": [
    "m2_xgb.fit(X_train_smote, y_train_smote, eval_metric=\"auc\", verbose = False, eval_set=[(X_train_smote, y_train_smote)])"
   ]
  },
  {
   "cell_type": "code",
   "execution_count": 34,
   "metadata": {},
   "outputs": [],
   "source": [
    "y_predicted_xgb = m2_xgb.predict(X_test)"
   ]
  },
  {
   "cell_type": "code",
   "execution_count": 35,
   "metadata": {},
   "outputs": [
    {
     "name": "stdout",
     "output_type": "stream",
     "text": [
      "Classification Report:\n",
      "\n",
      "               precision    recall  f1-score   support\n",
      "\n",
      "           0       1.00      1.00      1.00     56864\n",
      "           1       0.40      1.00      0.58        98\n",
      "\n",
      "    accuracy                           1.00     56962\n",
      "   macro avg       0.70      1.00      0.79     56962\n",
      "weighted avg       1.00      1.00      1.00     56962\n",
      "\n"
     ]
    }
   ],
   "source": [
    "from sklearn.metrics import classification_report\n",
    "\n",
    "\n",
    "print(\"Classification Report:\\n\\n\", classification_report(y_test, y_predicted_xgb))"
   ]
  },
  {
   "cell_type": "code",
   "execution_count": 36,
   "metadata": {},
   "outputs": [
    {
     "name": "stderr",
     "output_type": "stream",
     "text": [
      "c:\\Users\\xps\\AppData\\Local\\Programs\\Python\\Python36\\lib\\site-packages\\sklearn\\utils\\validation.py:72: FutureWarning: Pass labels=[1, 0] as keyword args. From version 1.0 (renaming of 0.25) passing these as positional arguments will result in an error\n",
      "  \"will result in an error\", FutureWarning)\n"
     ]
    },
    {
     "data": {
      "image/png": "[encoded data removed]",
      "text/plain": [
       "<Figure size 432x288 with 2 Axes>"
      ]
     },
     "metadata": {
      "needs_background": "light"
     },
     "output_type": "display_data"
    },
    {
     "name": "stdout",
     "output_type": "stream",
     "text": [
      "\u001b[1m The result is telling us that we have:  56818 correct predictions\u001b[1m\n",
      "\u001b[1m We have:  144 incorrect predictions\u001b[1m\n",
      "\u001b[1m And a total predictions of:  56962\n"
     ]
    }
   ],
   "source": [
    "confusionMatrix(y_predicted_xgb, y_test, \"XGBoost\")"
   ]
  },
  {
   "cell_type": "code",
   "execution_count": 37,
   "metadata": {},
   "outputs": [
    {
     "data": {
      "image/png": "[encoded data removed]",
      "text/plain": [
       "<Figure size 432x288 with 1 Axes>"
      ]
     },
     "metadata": {
      "needs_background": "light"
     },
     "output_type": "display_data"
    }
   ],
   "source": [
    "from sklearn.metrics import plot_roc_curve\n",
    "\n",
    "\n",
    "plot_roc_curve(m2_xgb, X_test, y_test)\n",
    "plt.title('ROC-AUC\\n')\n",
    "plt.show()"
   ]
  }
 ],
 "metadata": {
  "kernelspec": {
   "display_name": "Python 3.6.6 64-bit",
   "language": "python",
   "name": "python3"
  },
  "language_info": {
   "codemirror_mode": {
    "name": "ipython",
    "version": 3
   },
   "file_extension": ".py",
   "mimetype": "text/x-python",
   "name": "python",
   "nbconvert_exporter": "python",
   "pygments_lexer": "ipython3",
   "version": "3.6.6"
  },
  "orig_nbformat": 4,
  "vscode": {
   "interpreter": {
    "hash": "f619e8b7245f36616454eadaf75163e8d7d7bbf23f72e1fe25ff98e2cd3f7f94"
   }
  }
 },
 "nbformat": 4,
 "nbformat_minor": 2
}

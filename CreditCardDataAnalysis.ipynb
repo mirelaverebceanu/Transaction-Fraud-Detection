{
 "cells": [
  {
   "cell_type": "code",
   "execution_count": 1,
   "metadata": {},
   "outputs": [],
   "source": [
    "import pandas as pd\n",
    "import numpy as np\n",
    "import matplotlib.pyplot as plt\n",
    "import seaborn as sns\n",
    "import statistics as st"
   ]
  },
  {
   "cell_type": "code",
   "execution_count": 2,
   "metadata": {},
   "outputs": [],
   "source": [
    "dataset = pd.read_csv('creditcard.csv')"
   ]
  },
  {
   "cell_type": "code",
   "execution_count": 3,
   "metadata": {},
   "outputs": [
    {
     "name": "stdout",
     "output_type": "stream",
     "text": [
      "['Time', 'V1', 'V2', 'V3', 'V4', 'V5', 'V6', 'V7', 'V8', 'V9', 'V10', 'V11', 'V12', 'V13', 'V14', 'V15', 'V16', 'V17', 'V18', 'V19', 'V20', 'V21', 'V22', 'V23', 'V24', 'V25', 'V26', 'V27', 'V28', 'Amount', 'Class']\n"
     ]
    }
   ],
   "source": [
    "column_names = dataset.columns.tolist()\n",
    "print(column_names)"
   ]
  },
  {
   "cell_type": "code",
   "execution_count": 4,
   "metadata": {},
   "outputs": [
    {
     "name": "stdout",
     "output_type": "stream",
     "text": [
      "                Time            V1            V2            V3            V4  \\\n",
      "count  284807.000000  2.848070e+05  2.848070e+05  2.848070e+05  2.848070e+05   \n",
      "mean    94813.859575  1.165980e-15  3.416908e-16 -1.373150e-15  2.086869e-15   \n",
      "std     47488.145955  1.958696e+00  1.651309e+00  1.516255e+00  1.415869e+00   \n",
      "min         0.000000 -5.640751e+01 -7.271573e+01 -4.832559e+01 -5.683171e+00   \n",
      "25%     54201.500000 -9.203734e-01 -5.985499e-01 -8.903648e-01 -8.486401e-01   \n",
      "50%     84692.000000  1.810880e-02  6.548556e-02  1.798463e-01 -1.984653e-02   \n",
      "75%    139320.500000  1.315642e+00  8.037239e-01  1.027196e+00  7.433413e-01   \n",
      "max    172792.000000  2.454930e+00  2.205773e+01  9.382558e+00  1.687534e+01   \n",
      "\n",
      "                 V5            V6            V7            V8            V9  \\\n",
      "count  2.848070e+05  2.848070e+05  2.848070e+05  2.848070e+05  2.848070e+05   \n",
      "mean   9.604066e-16  1.490107e-15 -5.556467e-16  1.177556e-16 -2.406455e-15   \n",
      "std    1.380247e+00  1.332271e+00  1.237094e+00  1.194353e+00  1.098632e+00   \n",
      "min   -1.137433e+02 -2.616051e+01 -4.355724e+01 -7.321672e+01 -1.343407e+01   \n",
      "25%   -6.915971e-01 -7.682956e-01 -5.540759e-01 -2.086297e-01 -6.430976e-01   \n",
      "50%   -5.433583e-02 -2.741871e-01  4.010308e-02  2.235804e-02 -5.142873e-02   \n",
      "75%    6.119264e-01  3.985649e-01  5.704361e-01  3.273459e-01  5.971390e-01   \n",
      "max    3.480167e+01  7.330163e+01  1.205895e+02  2.000721e+01  1.559499e+01   \n",
      "\n",
      "       ...           V21           V22           V23           V24  \\\n",
      "count  ...  2.848070e+05  2.848070e+05  2.848070e+05  2.848070e+05   \n",
      "mean   ...  1.656562e-16 -3.444850e-16  2.578648e-16  4.471968e-15   \n",
      "std    ...  7.345240e-01  7.257016e-01  6.244603e-01  6.056471e-01   \n",
      "min    ... -3.483038e+01 -1.093314e+01 -4.480774e+01 -2.836627e+00   \n",
      "25%    ... -2.283949e-01 -5.423504e-01 -1.618463e-01 -3.545861e-01   \n",
      "50%    ... -2.945017e-02  6.781943e-03 -1.119293e-02  4.097606e-02   \n",
      "75%    ...  1.863772e-01  5.285536e-01  1.476421e-01  4.395266e-01   \n",
      "max    ...  2.720284e+01  1.050309e+01  2.252841e+01  4.584549e+00   \n",
      "\n",
      "                V25           V26           V27           V28         Amount  \\\n",
      "count  2.848070e+05  2.848070e+05  2.848070e+05  2.848070e+05  284807.000000   \n",
      "mean   5.340915e-16  1.687098e-15 -3.666453e-16 -1.220404e-16      88.349619   \n",
      "std    5.212781e-01  4.822270e-01  4.036325e-01  3.300833e-01     250.120109   \n",
      "min   -1.029540e+01 -2.604551e+00 -2.256568e+01 -1.543008e+01       0.000000   \n",
      "25%   -3.171451e-01 -3.269839e-01 -7.083953e-02 -5.295979e-02       5.600000   \n",
      "50%    1.659350e-02 -5.213911e-02  1.342146e-03  1.124383e-02      22.000000   \n",
      "75%    3.507156e-01  2.409522e-01  9.104512e-02  7.827995e-02      77.165000   \n",
      "max    7.519589e+00  3.517346e+00  3.161220e+01  3.384781e+01   25691.160000   \n",
      "\n",
      "               Class  \n",
      "count  284807.000000  \n",
      "mean        0.001727  \n",
      "std         0.041527  \n",
      "min         0.000000  \n",
      "25%         0.000000  \n",
      "50%         0.000000  \n",
      "75%         0.000000  \n",
      "max         1.000000  \n",
      "\n",
      "[8 rows x 31 columns]\n",
      "                   Time            V1            V2            V3  \\\n",
      "count     284807.000000  2.848070e+05  2.848070e+05  2.848070e+05   \n",
      "mean       94813.859575  1.165980e-15  3.416908e-16 -1.373150e-15   \n",
      "std        47488.145955  1.958696e+00  1.651309e+00  1.516255e+00   \n",
      "min            0.000000 -5.640751e+01 -7.271573e+01 -4.832559e+01   \n",
      "25%        54201.500000 -9.203734e-01 -5.985499e-01 -8.903648e-01   \n",
      "50%        84692.000000  1.810880e-02  6.548556e-02  1.798463e-01   \n",
      "75%       139320.500000  1.315642e+00  8.037239e-01  1.027196e+00   \n",
      "max       172792.000000  2.454930e+00  2.205773e+01  9.382558e+00   \n",
      "skewness      -0.035568 -3.280667e+00 -4.624866e+00 -2.240155e+00   \n",
      "kurtosis      -1.293530  3.248668e+01  9.577311e+01  2.661955e+01   \n",
      "median     84692.000000  1.810880e-02  6.548556e-02  1.798463e-01   \n",
      "\n",
      "                    V4            V5            V6            V7  \\\n",
      "count     2.848070e+05  2.848070e+05  2.848070e+05  2.848070e+05   \n",
      "mean      2.086869e-15  9.604066e-16  1.490107e-15 -5.556467e-16   \n",
      "std       1.415869e+00  1.380247e+00  1.332271e+00  1.237094e+00   \n",
      "min      -5.683171e+00 -1.137433e+02 -2.616051e+01 -4.355724e+01   \n",
      "25%      -8.486401e-01 -6.915971e-01 -7.682956e-01 -5.540759e-01   \n",
      "50%      -1.984653e-02 -5.433583e-02 -2.741871e-01  4.010308e-02   \n",
      "75%       7.433413e-01  6.119264e-01  3.985649e-01  5.704361e-01   \n",
      "max       1.687534e+01  3.480167e+01  7.330163e+01  1.205895e+02   \n",
      "skewness  6.762921e-01 -2.425901e+00  1.826581e+00  2.553907e+00   \n",
      "kurtosis  2.635455e+00  2.069046e+02  4.264249e+01  4.056074e+02   \n",
      "median   -1.984653e-02 -5.433583e-02 -2.741871e-01  4.010308e-02   \n",
      "\n",
      "                    V8            V9  ...           V21           V22  \\\n",
      "count     2.848070e+05  2.848070e+05  ...  2.848070e+05  2.848070e+05   \n",
      "mean      1.177556e-16 -2.406455e-15  ...  1.656562e-16 -3.444850e-16   \n",
      "std       1.194353e+00  1.098632e+00  ...  7.345240e-01  7.257016e-01   \n",
      "min      -7.321672e+01 -1.343407e+01  ... -3.483038e+01 -1.093314e+01   \n",
      "25%      -2.086297e-01 -6.430976e-01  ... -2.283949e-01 -5.423504e-01   \n",
      "50%       2.235804e-02 -5.142873e-02  ... -2.945017e-02  6.781943e-03   \n",
      "75%       3.273459e-01  5.971390e-01  ...  1.863772e-01  5.285536e-01   \n",
      "max       2.000721e+01  1.559499e+01  ...  2.720284e+01  1.050309e+01   \n",
      "skewness -8.521944e+00  5.546798e-01  ...  3.592991e+00 -2.132576e-01   \n",
      "kurtosis  2.205870e+02  3.731311e+00  ...  2.072870e+02  2.832967e+00   \n",
      "median    2.235804e-02 -5.142873e-02  ... -2.945017e-02  6.781943e-03   \n",
      "\n",
      "                   V23           V24           V25           V26  \\\n",
      "count     2.848070e+05  2.848070e+05  2.848070e+05  2.848070e+05   \n",
      "mean      2.578648e-16  4.471968e-15  5.340915e-16  1.687098e-15   \n",
      "std       6.244603e-01  6.056471e-01  5.212781e-01  4.822270e-01   \n",
      "min      -4.480774e+01 -2.836627e+00 -1.029540e+01 -2.604551e+00   \n",
      "25%      -1.618463e-01 -3.545861e-01 -3.171451e-01 -3.269839e-01   \n",
      "50%      -1.119293e-02  4.097606e-02  1.659350e-02 -5.213911e-02   \n",
      "75%       1.476421e-01  4.395266e-01  3.507156e-01  2.409522e-01   \n",
      "max       2.252841e+01  4.584549e+00  7.519589e+00  3.517346e+00   \n",
      "skewness -5.875140e+00 -5.524993e-01 -4.157926e-01  5.766926e-01   \n",
      "kurtosis  4.400887e+02  6.188708e-01  4.290412e+00  9.190058e-01   \n",
      "median   -1.119293e-02  4.097606e-02  1.659350e-02 -5.213911e-02   \n",
      "\n",
      "                   V27           V28         Amount          Class  \n",
      "count     2.848070e+05  2.848070e+05  284807.000000  284807.000000  \n",
      "mean     -3.666453e-16 -1.220404e-16      88.349619       0.001727  \n",
      "std       4.036325e-01  3.300833e-01     250.120109       0.041527  \n",
      "min      -2.256568e+01 -1.543008e+01       0.000000       0.000000  \n",
      "25%      -7.083953e-02 -5.295979e-02       5.600000       0.000000  \n",
      "50%       1.342146e-03  1.124383e-02      22.000000       0.000000  \n",
      "75%       9.104512e-02  7.827995e-02      77.165000       0.000000  \n",
      "max       3.161220e+01  3.384781e+01   25691.160000       1.000000  \n",
      "skewness -1.170209e+00  1.119209e+01      16.977724      23.997579  \n",
      "kurtosis  2.449892e+02  9.333975e+02     845.092646     573.887843  \n",
      "median    1.342146e-03  1.124383e-02      22.000000       0.000000  \n",
      "\n",
      "[11 rows x 31 columns]\n"
     ]
    }
   ],
   "source": [
    "#Looking at the main statistics\n",
    "print(dataset.describe())\n",
    "stats_df = dataset.describe()\n",
    "stats_df.loc['skewness'] = dataset.skew()\n",
    "stats_df.loc['kurtosis'] = dataset.kurt()\n",
    "stats_df.loc['median'] = dataset.median()\n",
    "print(stats_df)"
   ]
  },
  {
   "cell_type": "code",
   "execution_count": 5,
   "metadata": {},
   "outputs": [
    {
     "name": "stdout",
     "output_type": "stream",
     "text": [
      "    Time        V1        V2        V3        V4        V5        V6  \\\n",
      "0    0.0 -1.359807 -0.072781  2.536347  1.378155 -0.338321  0.462388   \n",
      "1    0.0  1.191857  0.266151  0.166480  0.448154  0.060018 -0.082361   \n",
      "2    1.0 -1.358354 -1.340163  1.773209  0.379780 -0.503198  1.800499   \n",
      "3    1.0 -0.966272 -0.185226  1.792993 -0.863291 -0.010309  1.247203   \n",
      "4    2.0 -1.158233  0.877737  1.548718  0.403034 -0.407193  0.095921   \n",
      "5    2.0 -0.425966  0.960523  1.141109 -0.168252  0.420987 -0.029728   \n",
      "6    4.0  1.229658  0.141004  0.045371  1.202613  0.191881  0.272708   \n",
      "7    7.0 -0.644269  1.417964  1.074380 -0.492199  0.948934  0.428118   \n",
      "8    7.0 -0.894286  0.286157 -0.113192 -0.271526  2.669599  3.721818   \n",
      "9    9.0 -0.338262  1.119593  1.044367 -0.222187  0.499361 -0.246761   \n",
      "10  10.0  1.449044 -1.176339  0.913860 -1.375667 -1.971383 -0.629152   \n",
      "11  10.0  0.384978  0.616109 -0.874300 -0.094019  2.924584  3.317027   \n",
      "12  10.0  1.249999 -1.221637  0.383930 -1.234899 -1.485419 -0.753230   \n",
      "13  11.0  1.069374  0.287722  0.828613  2.712520 -0.178398  0.337544   \n",
      "14  12.0 -2.791855 -0.327771  1.641750  1.767473 -0.136588  0.807596   \n",
      "15  12.0 -0.752417  0.345485  2.057323 -1.468643 -1.158394 -0.077850   \n",
      "16  12.0  1.103215 -0.040296  1.267332  1.289091 -0.735997  0.288069   \n",
      "17  13.0 -0.436905  0.918966  0.924591 -0.727219  0.915679 -0.127867   \n",
      "18  14.0 -5.401258 -5.450148  1.186305  1.736239  3.049106 -1.763406   \n",
      "19  15.0  1.492936 -1.029346  0.454795 -1.438026 -1.555434 -0.720961   \n",
      "\n",
      "          V7        V8        V9  ...       V21       V22       V23       V24  \\\n",
      "0   0.239599  0.098698  0.363787  ... -0.018307  0.277838 -0.110474  0.066928   \n",
      "1  -0.078803  0.085102 -0.255425  ... -0.225775 -0.638672  0.101288 -0.339846   \n",
      "2   0.791461  0.247676 -1.514654  ...  0.247998  0.771679  0.909412 -0.689281   \n",
      "3   0.237609  0.377436 -1.387024  ... -0.108300  0.005274 -0.190321 -1.175575   \n",
      "4   0.592941 -0.270533  0.817739  ... -0.009431  0.798278 -0.137458  0.141267   \n",
      "5   0.476201  0.260314 -0.568671  ... -0.208254 -0.559825 -0.026398 -0.371427   \n",
      "6  -0.005159  0.081213  0.464960  ... -0.167716 -0.270710 -0.154104 -0.780055   \n",
      "7   1.120631 -3.807864  0.615375  ...  1.943465 -1.015455  0.057504 -0.649709   \n",
      "8   0.370145  0.851084 -0.392048  ... -0.073425 -0.268092 -0.204233  1.011592   \n",
      "9   0.651583  0.069539 -0.736727  ... -0.246914 -0.633753 -0.120794 -0.385050   \n",
      "10 -1.423236  0.048456 -1.720408  ... -0.009302  0.313894  0.027740  0.500512   \n",
      "11  0.470455  0.538247 -0.558895  ...  0.049924  0.238422  0.009130  0.996710   \n",
      "12 -0.689405 -0.227487 -2.094011  ... -0.231809 -0.483285  0.084668  0.392831   \n",
      "13 -0.096717  0.115982 -0.221083  ... -0.036876  0.074412 -0.071407  0.104744   \n",
      "14 -0.422911 -1.907107  0.755713  ...  1.151663  0.222182  1.020586  0.028317   \n",
      "15 -0.608581  0.003603 -0.436167  ...  0.499625  1.353650 -0.256573 -0.065084   \n",
      "16 -0.586057  0.189380  0.782333  ... -0.024612  0.196002  0.013802  0.103758   \n",
      "17  0.707642  0.087962 -0.665271  ... -0.194796 -0.672638 -0.156858 -0.888386   \n",
      "18 -1.559738  0.160842  1.233090  ... -0.503600  0.984460  2.458589  0.042119   \n",
      "19 -1.080664 -0.053127 -1.978682  ... -0.177650 -0.175074  0.040002  0.295814   \n",
      "\n",
      "         V25       V26       V27       V28  Amount  Class  \n",
      "0   0.128539 -0.189115  0.133558 -0.021053  149.62      0  \n",
      "1   0.167170  0.125895 -0.008983  0.014724    2.69      0  \n",
      "2  -0.327642 -0.139097 -0.055353 -0.059752  378.66      0  \n",
      "3   0.647376 -0.221929  0.062723  0.061458  123.50      0  \n",
      "4  -0.206010  0.502292  0.219422  0.215153   69.99      0  \n",
      "5  -0.232794  0.105915  0.253844  0.081080    3.67      0  \n",
      "6   0.750137 -0.257237  0.034507  0.005168    4.99      0  \n",
      "7  -0.415267 -0.051634 -1.206921 -1.085339   40.80      0  \n",
      "8   0.373205 -0.384157  0.011747  0.142404   93.20      0  \n",
      "9  -0.069733  0.094199  0.246219  0.083076    3.68      0  \n",
      "10  0.251367 -0.129478  0.042850  0.016253    7.80      0  \n",
      "11 -0.767315 -0.492208  0.042472 -0.054337    9.99      0  \n",
      "12  0.161135 -0.354990  0.026416  0.042422  121.50      0  \n",
      "13  0.548265  0.104094  0.021491  0.021293   27.50      0  \n",
      "14 -0.232746 -0.235557 -0.164778 -0.030154   58.80      0  \n",
      "15 -0.039124 -0.087086 -0.180998  0.129394   15.99      0  \n",
      "16  0.364298 -0.382261  0.092809  0.037051   12.99      0  \n",
      "17 -0.342413 -0.049027  0.079692  0.131024    0.89      0  \n",
      "18 -0.481631 -0.621272  0.392053  0.949594   46.80      0  \n",
      "19  0.332931 -0.220385  0.022298  0.007602    5.00      0  \n",
      "\n",
      "[20 rows x 31 columns]\n"
     ]
    }
   ],
   "source": [
    "#Load and print the first 20 observations of the dataset.\n",
    "head_20 = dataset.head(20)\n",
    "print(head_20)"
   ]
  },
  {
   "cell_type": "code",
   "execution_count": 6,
   "metadata": {},
   "outputs": [
    {
     "name": "stdout",
     "output_type": "stream",
     "text": [
      "Time      float64\n",
      "V1        float64\n",
      "V2        float64\n",
      "V3        float64\n",
      "V4        float64\n",
      "V5        float64\n",
      "V6        float64\n",
      "V7        float64\n",
      "V8        float64\n",
      "V9        float64\n",
      "V10       float64\n",
      "V11       float64\n",
      "V12       float64\n",
      "V13       float64\n",
      "V14       float64\n",
      "V15       float64\n",
      "V16       float64\n",
      "V17       float64\n",
      "V18       float64\n",
      "V19       float64\n",
      "V20       float64\n",
      "V21       float64\n",
      "V22       float64\n",
      "V23       float64\n",
      "V24       float64\n",
      "V25       float64\n",
      "V26       float64\n",
      "V27       float64\n",
      "V28       float64\n",
      "Amount    float64\n",
      "Class       int64\n",
      "dtype: object\n"
     ]
    }
   ],
   "source": [
    "#Checking the type of the data\n",
    "datatype = dataset.dtypes\n",
    "print(datatype)"
   ]
  },
  {
   "cell_type": "code",
   "execution_count": 7,
   "metadata": {},
   "outputs": [
    {
     "name": "stdout",
     "output_type": "stream",
     "text": [
      "Time      0\n",
      "V1        0\n",
      "V2        0\n",
      "V3        0\n",
      "V4        0\n",
      "V5        0\n",
      "V6        0\n",
      "V7        0\n",
      "V8        0\n",
      "V9        0\n",
      "V10       0\n",
      "V11       0\n",
      "V12       0\n",
      "V13       0\n",
      "V14       0\n",
      "V15       0\n",
      "V16       0\n",
      "V17       0\n",
      "V18       0\n",
      "V19       0\n",
      "V20       0\n",
      "V21       0\n",
      "V22       0\n",
      "V23       0\n",
      "V24       0\n",
      "V25       0\n",
      "V26       0\n",
      "V27       0\n",
      "V28       0\n",
      "Amount    0\n",
      "Class     0\n",
      "dtype: int64\n"
     ]
    }
   ],
   "source": [
    "print(dataset.isnull().sum())"
   ]
  },
  {
   "cell_type": "code",
   "execution_count": 8,
   "metadata": {},
   "outputs": [
    {
     "data": {
      "image/png": "[encoded data removed]",
      "text/plain": [
       "<Figure size 1440x720 with 36 Axes>"
      ]
     },
     "metadata": {
      "needs_background": "light"
     },
     "output_type": "display_data"
    }
   ],
   "source": [
    "#Histograms\n",
    "dataset.hist(alpha=0.5, figsize=(20, 10))\n",
    "plt.tight_layout()\n",
    "plt.show()"
   ]
  },
  {
   "cell_type": "code",
   "execution_count": 10,
   "metadata": {},
   "outputs": [
    {
     "data": {
      "image/png": "[encoded data removed]",
      "text/plain": [
       "<Figure size 432x288 with 1 Axes>"
      ]
     },
     "metadata": {
      "needs_background": "light"
     },
     "output_type": "display_data"
    }
   ],
   "source": [
    "fig, ax = plt.subplots(figsize = (6, 4))\n",
    "ax = sns.countplot(x = 'Class', data = dataset)\n",
    "plt.show()"
   ]
  },
  {
   "cell_type": "code",
   "execution_count": 11,
   "metadata": {},
   "outputs": [
    {
     "data": {
      "image/png": "[encoded data removed]",
      "text/plain": [
       "<Figure size 432x288 with 1 Axes>"
      ]
     },
     "metadata": {
      "needs_background": "light"
     },
     "output_type": "display_data"
    }
   ],
   "source": [
    "fig,ax = plt.subplots()\n",
    "sns.countplot(x=dataset.Class,ax=ax)\n",
    "for p in ax.patches:\n",
    "        val = p.get_height() #height of the bar\n",
    "        x = p.get_x() + p.get_width()/2 # x- position \n",
    "        y = p.get_y() + p.get_height() #y-position\n",
    "        ax.annotate(val,(x,y))"
   ]
  }
 ],
 "metadata": {
  "kernelspec": {
   "display_name": "Python 3.6.6 64-bit",
   "language": "python",
   "name": "python3"
  },
  "language_info": {
   "codemirror_mode": {
    "name": "ipython",
    "version": 3
   },
   "file_extension": ".py",
   "mimetype": "text/x-python",
   "name": "python",
   "nbconvert_exporter": "python",
   "pygments_lexer": "ipython3",
   "version": "3.6.6"
  },
  "orig_nbformat": 4,
  "vscode": {
   "interpreter": {
    "hash": "f619e8b7245f36616454eadaf75163e8d7d7bbf23f72e1fe25ff98e2cd3f7f94"
   }
  }
 },
 "nbformat": 4,
 "nbformat_minor": 2
}

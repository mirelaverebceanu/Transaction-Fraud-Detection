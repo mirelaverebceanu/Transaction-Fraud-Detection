{
 "cells": [
  {
   "cell_type": "code",
   "execution_count": null,
   "metadata": {},
   "outputs": [],
   "source": [
    "# Data Analysis\n",
    "import pandas as pd\n",
    "import numpy as np\n",
    "\n",
    "# Data Visualization\n",
    "from matplotlib import pyplot as plt\n",
    "import seaborn as sns\n",
    "\n",
    "# Machine Learning\n",
    "from sklearn.impute import SimpleImputer\n",
    "from sklearn.model_selection import train_test_split\n",
    "from sklearn.preprocessing import StandardScaler\n",
    "from imblearn.over_sampling import SMOTE\n",
    "from sklearn.metrics import roc_auc_score\n",
    "from sklearn.ensemble import RandomForestClassifier\n",
    "\n",
    "# Warnings\n",
    "import warnings\n",
    "warnings.filterwarnings('ignore')"
   ]
  },
  {
   "cell_type": "code",
   "execution_count": null,
   "metadata": {},
   "outputs": [],
   "source": [
    "# Loading train data frame\n",
    "data_train = pd.read_csv('ieee-fraud-detection/train_df.csv')"
   ]
  },
  {
   "cell_type": "code",
   "execution_count": null,
   "metadata": {},
   "outputs": [],
   "source": [
    "# Loading train data frame\n",
    "data_test = pd.read_csv('ieee-fraud-detection/test_df.csv')"
   ]
  },
  {
   "cell_type": "code",
   "execution_count": null,
   "metadata": {},
   "outputs": [],
   "source": [
    "data_train.info()"
   ]
  },
  {
   "cell_type": "code",
   "execution_count": null,
   "metadata": {},
   "outputs": [],
   "source": [
    "data_test.info()"
   ]
  },
  {
   "cell_type": "code",
   "execution_count": null,
   "metadata": {},
   "outputs": [],
   "source": [
    "column_names = data_train.columns.tolist()\n",
    "print(column_names)"
   ]
  },
  {
   "cell_type": "code",
   "execution_count": null,
   "metadata": {},
   "outputs": [],
   "source": [
    "feature_names = data_test.columns.tolist()\n",
    "print(feature_names)"
   ]
  },
  {
   "cell_type": "code",
   "execution_count": null,
   "metadata": {},
   "outputs": [],
   "source": [
    "#Looking at the main statistics\n",
    "# print(data_train.describe())\n",
    "# stats_df = data_train.describe()\n",
    "# stats_df.loc['skewness'] = data_train.skew()\n",
    "# stats_df.loc['kurtosis'] = data_train.kurt()\n",
    "# stats_df.loc['median'] = data_train.median()\n",
    "# print(stats_df)"
   ]
  },
  {
   "cell_type": "code",
   "execution_count": null,
   "metadata": {},
   "outputs": [],
   "source": [
    "#Load and print the first 20 observations of the dataset.\n",
    "# head_20 = data_train.head(20)\n",
    "# print(head_20)"
   ]
  },
  {
   "cell_type": "code",
   "execution_count": null,
   "metadata": {},
   "outputs": [],
   "source": [
    "#Checking the type of the data\n",
    "datatype = data_train.dtypes\n",
    "print(datatype)"
   ]
  },
  {
   "cell_type": "code",
   "execution_count": null,
   "metadata": {},
   "outputs": [],
   "source": [
    "print(data_train.isnull().sum())"
   ]
  },
  {
   "cell_type": "code",
   "execution_count": null,
   "metadata": {},
   "outputs": [],
   "source": [
    "#uniq_cols = data_train['TransactionID', 'isFraud', 'TransactionDT', 'TransactionAmt', 'ProductCD']\n",
    "#Histograms\n",
    "fig,ax = plt.subplots()\n",
    "sns.countplot(x=data_train.isFraud,ax=ax)\n",
    "for p in ax.patches:\n",
    "        val = p.get_height() #height of the bar\n",
    "        x = p.get_x() + p.get_width()/2 # x- position \n",
    "        y = p.get_y() + p.get_height() #y-position\n",
    "        ax.annotate(val,(x,y))"
   ]
  },
  {
   "cell_type": "code",
   "execution_count": null,
   "metadata": {},
   "outputs": [],
   "source": [
    "data_train['TransactionDT'].plot(kind = 'hist',\n",
    "                            label = 'train',figsize=(16, 5),bins=50,\n",
    "                            fontsize=12)\n",
    "data_test['TransactionDT'].plot(kind = 'hist',bins=50,label = 'test')\n",
    "\n",
    "plt.legend(fontsize=12)\n",
    "plt.show\n",
    "plt.ylabel(\"Count\",fontsize=15)\n",
    "plt.xlabel(\"Timedelta\",fontsize=15)\n",
    "\n",
    "plt.title('Train vs Test TransactionDT Distribution',fontsize=15)"
   ]
  },
  {
   "cell_type": "code",
   "execution_count": null,
   "metadata": {},
   "outputs": [],
   "source": [
    "print('train: max = {}, min = {}'.format\n",
    "      (max(data_train['TransactionDT']), min(data_train['TransactionDT'])))\n",
    "\n",
    "print('test: max = {}, min = {}'.format\n",
    "      (max(data_test['TransactionDT']), min(data_test['TransactionDT'])))"
   ]
  },
  {
   "cell_type": "code",
   "execution_count": null,
   "metadata": {},
   "outputs": [],
   "source": [
    "d = (max(data_train['TransactionDT'])-min(data_train['TransactionDT']))/(3600*24)\n",
    "d2 = (max(data_test['TransactionDT'])-min(data_test['TransactionDT']))/(3600*24)\n",
    "d1 = (min(data_test['TransactionDT'])-max(data_train['TransactionDT']))/(3600*24)\n",
    "\n",
    "print('Timespan of the total data set is {} days'.format(d+d2))\n",
    "print('Timespan of the training set is {} days'.format(d))\n",
    "print('Timespan of the test set is {} days'.format(d2))\n",
    "print('The gap between the training and test set is {} days'.format(d1))"
   ]
  },
  {
   "cell_type": "code",
   "execution_count": null,
   "metadata": {},
   "outputs": [],
   "source": [
    "# data_train['TransactionDT'].hist(alpha=0.5, figsize=(20, 10))\n",
    "# plt.tight_layout()\n",
    "# plt.show()"
   ]
  },
  {
   "cell_type": "code",
   "execution_count": null,
   "metadata": {},
   "outputs": [],
   "source": [
    "# data_train['TransactionAmt'].hist(alpha=0.5, figsize=(20, 10))\n",
    "# plt.tight_layout()\n",
    "# plt.show()"
   ]
  },
  {
   "cell_type": "code",
   "execution_count": null,
   "metadata": {},
   "outputs": [],
   "source": [
    "plt.boxplot(data_train['TransactionAmt'])"
   ]
  },
  {
   "cell_type": "code",
   "execution_count": null,
   "metadata": {},
   "outputs": [],
   "source": [
    "plt.boxplot(data_test['TransactionAmt'])"
   ]
  },
  {
   "cell_type": "code",
   "execution_count": null,
   "metadata": {},
   "outputs": [],
   "source": [
    "\n",
    "# Pandas dataframe\n",
    "data = pd.DataFrame({\"Train\": data_train['TransactionAmt'], \"Test\": data_test['TransactionAmt']})\n",
    "\n",
    "# Plot the dataframe\n",
    "ax = data[['Train', 'Test']].plot(kind='box', title='boxplot')\n",
    "\n",
    "# Display the plot\n",
    "plt.show()"
   ]
  },
  {
   "cell_type": "code",
   "execution_count": null,
   "metadata": {},
   "outputs": [],
   "source": [
    "print(\"training set: Transaction Amounts Quantiles:\")\n",
    "print(data_train['TransactionAmt'].quantile([.01, .025, .1, .25, .5, .75, .9, .975, .99]))\n",
    "print()\n",
    "print(\"test set: Transaction Amounts Quantiles:\")\n",
    "print(data_test['TransactionAmt'].quantile([.01, .025, .1, .25, .5, .75, .9, .975, .99]))"
   ]
  },
  {
   "cell_type": "code",
   "execution_count": null,
   "metadata": {},
   "outputs": [],
   "source": [
    "fig, ((ax1, ax2)) = plt.subplots(2, 1, figsize=(10, 10))\n",
    "data_train.loc[data_train['isFraud'] == 1] \\\n",
    "    ['TransactionAmt'] \\\n",
    "    .plot(kind='hist',\n",
    "          bins=100,\n",
    "          title='Transaction Amt - Fraud',\n",
    "         ax= ax1)\n",
    "data_train.loc[data_train['isFraud'] == 0] \\\n",
    "    ['TransactionAmt'] \\\n",
    "    .plot(kind='hist',\n",
    "          bins=100,\n",
    "          title='Transaction Amt - Not Fraud',\n",
    "         ax=ax2)\n",
    "plt.show()"
   ]
  },
  {
   "cell_type": "code",
   "execution_count": null,
   "metadata": {},
   "outputs": [],
   "source": [
    "# data_train['ProductCD'].hist(alpha=0.5, figsize=(20, 10))\n",
    "# plt.tight_layout()\n",
    "# plt.show()"
   ]
  },
  {
   "cell_type": "code",
   "execution_count": null,
   "metadata": {},
   "outputs": [],
   "source": [
    "print(data_train['ProductCD'].unique())\n",
    "print(data_train['ProductCD'].isnull().sum())"
   ]
  },
  {
   "cell_type": "code",
   "execution_count": null,
   "metadata": {},
   "outputs": [],
   "source": [
    "fig, ((ax1, ax2)) = plt.subplots(2, 1, figsize=(15, 15))\n",
    "data_train.groupby('ProductCD') \\\n",
    "    ['TransactionID'].count() \\\n",
    "    .sort_index() \\\n",
    "    .plot(kind='barh',\n",
    "         title='Count of Observations by ProductCD',\n",
    "         color=['brown', 'red', 'green', 'blue', 'orange'],\n",
    "         ax= ax1)\n",
    "data_train.groupby('ProductCD')['isFraud'] \\\n",
    "    .mean() \\\n",
    "    .sort_index() \\\n",
    "    .plot(kind='barh',\n",
    "         title='Percentage of Fraud by ProductCD',\n",
    "         color=['brown', 'red', 'green', 'blue', 'orange'],\n",
    "         ax= ax2)\n",
    "plt.show()"
   ]
  },
  {
   "cell_type": "code",
   "execution_count": null,
   "metadata": {},
   "outputs": [],
   "source": [
    "print(data_train['DeviceInfo'].unique())\n",
    "print(data_train['DeviceInfo'].isnull().sum())"
   ]
  },
  {
   "cell_type": "code",
   "execution_count": null,
   "metadata": {},
   "outputs": [],
   "source": [
    "data_train['DeviceInfo'].isnull().sum()*100/data_train.shape[0]"
   ]
  },
  {
   "cell_type": "code",
   "execution_count": null,
   "metadata": {},
   "outputs": [],
   "source": [
    "fig, ((ax1, ax2)) = plt.subplots(2, 1, figsize=(15, 9))\n",
    "data_train.groupby('DeviceInfo') \\\n",
    "    ['TransactionID'].count() \\\n",
    "    .sort_index() \\\n",
    "    .plot(kind='barh',\n",
    "         title='Count of Observations by DeviceInfo',\n",
    "         color=['blue', 'red', 'green'],\n",
    "         ax= ax1)\n",
    "data_train.groupby('DeviceInfo')['isFraud'] \\\n",
    "    .mean() \\\n",
    "    .sort_index() \\\n",
    "    .plot(kind='barh',\n",
    "         title='Percentage of Fraud by DeviceInfo',\n",
    "         color=['blue', 'red', 'green'],\n",
    "         ax= ax2)\n",
    "plt.show()"
   ]
  },
  {
   "cell_type": "code",
   "execution_count": null,
   "metadata": {},
   "outputs": [],
   "source": [
    "print(data_train['DeviceType'].unique())\n",
    "print(data_train['DeviceType'].isnull().sum())"
   ]
  },
  {
   "cell_type": "code",
   "execution_count": null,
   "metadata": {},
   "outputs": [],
   "source": [
    "data_train['DeviceType'].isnull().sum()*100/data_train.shape[0]"
   ]
  },
  {
   "cell_type": "code",
   "execution_count": null,
   "metadata": {},
   "outputs": [],
   "source": [
    "data_train['DeviceType'].head()"
   ]
  },
  {
   "cell_type": "code",
   "execution_count": null,
   "metadata": {},
   "outputs": [],
   "source": [
    "fig, ((ax1, ax2)) = plt.subplots(2, 1, figsize=(15, 9))\n",
    "data_train.groupby('DeviceType') \\\n",
    "    ['TransactionID'].count() \\\n",
    "    .sort_index() \\\n",
    "    .plot(kind='barh',\n",
    "         title='Count of Observations by DeviceType',\n",
    "         color=['blue', 'red', 'green'],\n",
    "         ax= ax1)\n",
    "data_train.groupby('DeviceType')['isFraud'] \\\n",
    "    .mean() \\\n",
    "    .sort_index() \\\n",
    "    .plot(kind='barh',\n",
    "         title='Percentage of Fraud by DeviceType',\n",
    "         color=['blue', 'red', 'green'],\n",
    "         ax= ax2)\n",
    "plt.show()"
   ]
  },
  {
   "cell_type": "code",
   "execution_count": null,
   "metadata": {},
   "outputs": [],
   "source": [
    "card_cols = [c for c in data_train.columns if 'card' in c]\n",
    "data_train[card_cols].head()"
   ]
  },
  {
   "cell_type": "code",
   "execution_count": null,
   "metadata": {},
   "outputs": [],
   "source": [
    "data_train[card_cols].dtypes"
   ]
  },
  {
   "cell_type": "code",
   "execution_count": null,
   "metadata": {},
   "outputs": [],
   "source": [
    "data_train[card_cols].isnull().sum()*100/data_train.shape[0]"
   ]
  },
  {
   "cell_type": "code",
   "execution_count": null,
   "metadata": {},
   "outputs": [],
   "source": [
    "cor = data_train[['card1','card2','card3','card5']].corr()\n",
    "sns.heatmap(cor, cmap = 'RdBu_r',annot=True, center=0.0)\n",
    "plt.title('Card1,2,3,5')\n",
    "plt.show"
   ]
  },
  {
   "cell_type": "code",
   "execution_count": null,
   "metadata": {},
   "outputs": [],
   "source": [
    "fig, ((ax1, ax2)) = plt.subplots(2, 1, figsize=(15, 9))\n",
    "data_train.groupby('card4') \\\n",
    "    ['TransactionID'].count() \\\n",
    "    .sort_index() \\\n",
    "    .plot(kind='barh',\n",
    "         title='Count of Observations by card',\n",
    "         color=['blue', 'red', 'green', 'orange'],\n",
    "         ax= ax1)\n",
    "data_train.groupby('card4')['isFraud'] \\\n",
    "    .mean() \\\n",
    "    .sort_index() \\\n",
    "    .plot(kind='barh',\n",
    "         title='Percentage of Fraud by card',\n",
    "         color=['blue', 'red', 'green', 'orange'],\n",
    "         ax= ax2)\n",
    "plt.show()"
   ]
  },
  {
   "cell_type": "code",
   "execution_count": null,
   "metadata": {},
   "outputs": [],
   "source": [
    "fig, ((ax1, ax2)) = plt.subplots(2, 1, figsize=(15, 9))\n",
    "data_train.groupby('card6') \\\n",
    "    ['TransactionID'].count() \\\n",
    "    .sort_index() \\\n",
    "    .plot(kind='barh',\n",
    "         title='Count of Observations by card',\n",
    "         color=['blue', 'red', 'green', 'orange'],\n",
    "         ax= ax1)\n",
    "data_train.groupby('card6')['isFraud'] \\\n",
    "    .mean() \\\n",
    "    .sort_index() \\\n",
    "    .plot(kind='barh',\n",
    "         title='Percentage of Fraud by card',\n",
    "         color=['blue', 'red', 'green', 'orange'],\n",
    "         ax= ax2)\n",
    "plt.show()"
   ]
  },
  {
   "cell_type": "code",
   "execution_count": null,
   "metadata": {},
   "outputs": [],
   "source": [
    "print(data_train['card4'].unique())\n",
    "print(data_train['card6'].unique())"
   ]
  },
  {
   "cell_type": "code",
   "execution_count": null,
   "metadata": {},
   "outputs": [],
   "source": [
    "from scipy import stats\n",
    "\n",
    "\n",
    "con_table = pd.crosstab(data_train['card4'], \n",
    "                        data_train['card6'],  \n",
    "                        margins = False) \n",
    "stats.chi2_contingency(con_table)"
   ]
  },
  {
   "cell_type": "code",
   "execution_count": null,
   "metadata": {},
   "outputs": [],
   "source": [
    "#Histograms\n",
    "data_train[card_cols].hist(alpha=0.5, figsize=(20, 10))\n",
    "plt.tight_layout()\n",
    "plt.show()"
   ]
  },
  {
   "cell_type": "code",
   "execution_count": null,
   "metadata": {},
   "outputs": [],
   "source": [
    "addr_cols = [c for c in data_train.columns if 'addr' in c]\n",
    "data_train[addr_cols].head()"
   ]
  },
  {
   "cell_type": "code",
   "execution_count": null,
   "metadata": {},
   "outputs": [],
   "source": [
    "cor = data_train[['addr1','addr2']].corr()\n",
    "sns.heatmap(cor, cmap = 'RdBu_r',annot=True, center=0.0)\n",
    "plt.title('Address')\n",
    "plt.show"
   ]
  },
  {
   "cell_type": "code",
   "execution_count": null,
   "metadata": {},
   "outputs": [],
   "source": [
    "data_train[['addr1','addr2']].dtypes"
   ]
  },
  {
   "cell_type": "code",
   "execution_count": null,
   "metadata": {},
   "outputs": [],
   "source": [
    "data_train[['addr1','addr2']].isnull().sum()*100/data_train.shape[0]"
   ]
  },
  {
   "cell_type": "code",
   "execution_count": null,
   "metadata": {},
   "outputs": [],
   "source": [
    "data_train[addr_cols].hist(alpha=0.5, figsize=(20, 10))\n",
    "plt.tight_layout()\n",
    "plt.show()"
   ]
  },
  {
   "cell_type": "code",
   "execution_count": null,
   "metadata": {},
   "outputs": [],
   "source": [
    "dist_cols = [c for c in data_train.columns if 'dist' in c]\n",
    "data_train[dist_cols].head()"
   ]
  },
  {
   "cell_type": "code",
   "execution_count": null,
   "metadata": {},
   "outputs": [],
   "source": [
    "data_train[['dist1','dist2']].isnull().sum()*100/data_train.shape[0]"
   ]
  },
  {
   "cell_type": "code",
   "execution_count": null,
   "metadata": {},
   "outputs": [],
   "source": [
    "data_train[dist_cols].hist(alpha=0.5, figsize=(20, 10))\n",
    "plt.tight_layout()\n",
    "plt.show()"
   ]
  },
  {
   "cell_type": "code",
   "execution_count": null,
   "metadata": {},
   "outputs": [],
   "source": [
    "c_cols = [c for c in data_train if c[0] == 'C']\n",
    "data_train[c_cols].head()"
   ]
  },
  {
   "cell_type": "code",
   "execution_count": null,
   "metadata": {},
   "outputs": [],
   "source": [
    "#Missing values in C\n",
    "100*data_train[['C'+str(i) for i in range(1,15)]].isna().sum()/data_train.shape[0]"
   ]
  },
  {
   "cell_type": "code",
   "execution_count": null,
   "metadata": {},
   "outputs": [],
   "source": [
    "ct_cols = [c for c in data_test if c[0] == 'C']"
   ]
  },
  {
   "cell_type": "code",
   "execution_count": null,
   "metadata": {},
   "outputs": [],
   "source": [
    "data_train[c_cols].hist(alpha=0.5, figsize=(20, 10))\n",
    "plt.tight_layout()\n",
    "plt.show()"
   ]
  },
  {
   "cell_type": "code",
   "execution_count": null,
   "metadata": {},
   "outputs": [],
   "source": [
    "sns.pairplot(data_train, \n",
    "             hue='isFraud',\n",
    "            vars=c_cols)\n",
    "plt.show()"
   ]
  },
  {
   "cell_type": "code",
   "execution_count": null,
   "metadata": {},
   "outputs": [],
   "source": [
    "nan_df = data_train.isna()\n",
    "nan_groups = {} # dictionary containing colunms with the same sum of nan\n",
    "for c in c_cols:\n",
    "    # sum of nan of each columns\n",
    "    col_sum = nan_df[c].sum()\n",
    "    if col_sum in nan_groups.keys():\n",
    "        nan_groups[col_sum].append(c)\n",
    "    else:\n",
    "        nan_groups[col_sum] = [c]\n",
    "del nan_df"
   ]
  },
  {
   "cell_type": "code",
   "execution_count": null,
   "metadata": {},
   "outputs": [],
   "source": [
    "col = ['C'+str(i) for i in range(1,15)]\n",
    "train_c = data_train[col].sample(frac = 0.2)\n",
    "plt.figure()\n",
    "plt.figure(figsize=(10,10))\n",
    "cor = train_c[col].corr()\n",
    "sns.heatmap(cor, annot=True, center=0.0)\n",
    "plt.title('C1-C14')\n",
    "plt.show"
   ]
  },
  {
   "cell_type": "code",
   "execution_count": null,
   "metadata": {},
   "outputs": [],
   "source": [
    "Dcol = ['D'+str(i) for i in range(1,16)]\n",
    "data_train[Dcol].head()"
   ]
  },
  {
   "cell_type": "code",
   "execution_count": null,
   "metadata": {},
   "outputs": [],
   "source": [
    "#Missing values in D\n",
    "100*data_train[['D'+str(i) for i in range(1,15)]].isna().sum()/data_train.shape[0]"
   ]
  },
  {
   "cell_type": "code",
   "execution_count": null,
   "metadata": {},
   "outputs": [],
   "source": [
    "plt.figure(figsize=(10,10))\n",
    "sns.heatmap(data_train[Dcol].corr(),cmap='RdBu_r',center=0.0,annot=True)"
   ]
  },
  {
   "cell_type": "code",
   "execution_count": null,
   "metadata": {},
   "outputs": [],
   "source": [
    "mcol = ['M'+str(i) for i in range(1,10)]\n",
    "data_train[mcol].head()"
   ]
  },
  {
   "cell_type": "code",
   "execution_count": null,
   "metadata": {},
   "outputs": [],
   "source": [
    "pd.DataFrame(100*data_train[mcol].isna().sum()/data_train.shape[0]).sort_values(by = 0)"
   ]
  },
  {
   "cell_type": "code",
   "execution_count": null,
   "metadata": {},
   "outputs": [],
   "source": [
    "statistics_of_data = []\n",
    "for col in data_train.columns:\n",
    "  statistics_of_data.append((col,\n",
    "                             data_train[col].nunique(),\n",
    "                             data_train[col].isnull().sum()*100/data_train.shape[0],\n",
    "                             data_train[col].value_counts(normalize=True, dropna=False).values[0] * 100, \n",
    "                             data_train[col].dtype\n",
    "                             ))\n",
    "stats_df = pd.DataFrame(statistics_of_data, columns=['Feature', 'Uniq_val', 'missing_val', 'val_biggest_cat', 'type'])"
   ]
  },
  {
   "cell_type": "code",
   "execution_count": null,
   "metadata": {},
   "outputs": [],
   "source": [
    "stats_df.sort_values('missing_val', ascending=False)"
   ]
  },
  {
   "cell_type": "code",
   "execution_count": null,
   "metadata": {},
   "outputs": [],
   "source": [
    "stats_df.sort_values('val_biggest_cat', ascending=False)"
   ]
  }
 ],
 "metadata": {
  "kernelspec": {
   "display_name": "Python 3.6.6 64-bit",
   "language": "python",
   "name": "python3"
  },
  "language_info": {
   "codemirror_mode": {
    "name": "ipython",
    "version": 3
   },
   "file_extension": ".py",
   "mimetype": "text/x-python",
   "name": "python",
   "nbconvert_exporter": "python",
   "pygments_lexer": "ipython3",
   "version": "3.6.6"
  },
  "orig_nbformat": 4,
  "vscode": {
   "interpreter": {
    "hash": "f619e8b7245f36616454eadaf75163e8d7d7bbf23f72e1fe25ff98e2cd3f7f94"
   }
  }
 },
 "nbformat": 4,
 "nbformat_minor": 2
}
